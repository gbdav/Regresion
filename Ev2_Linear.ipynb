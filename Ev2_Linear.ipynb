{
 "cells": [
  {
   "cell_type": "code",
   "execution_count": 1,
   "id": "4dde6dd3",
   "metadata": {},
   "outputs": [],
   "source": [
    "import pandas as pd\n",
    "import numpy as np\n",
    "import matplotlib.pyplot as plt\n",
    "import seaborn as sns"
   ]
  },
  {
   "cell_type": "code",
   "execution_count": 4,
   "id": "17158e16",
   "metadata": {},
   "outputs": [],
   "source": [
    "spotifyData = pd.read_csv(\"source/SpotifyTopSongsByCountryMay2020.csv\")"
   ]
  },
  {
   "cell_type": "code",
   "execution_count": 5,
   "id": "8835afb2",
   "metadata": {},
   "outputs": [
    {
     "data": {
      "text/html": [
       "<div>\n",
       "<style scoped>\n",
       "    .dataframe tbody tr th:only-of-type {\n",
       "        vertical-align: middle;\n",
       "    }\n",
       "\n",
       "    .dataframe tbody tr th {\n",
       "        vertical-align: top;\n",
       "    }\n",
       "\n",
       "    .dataframe thead th {\n",
       "        text-align: right;\n",
       "    }\n",
       "</style>\n",
       "<table border=\"1\" class=\"dataframe\">\n",
       "  <thead>\n",
       "    <tr style=\"text-align: right;\">\n",
       "      <th></th>\n",
       "      <th>Country</th>\n",
       "      <th>Continent</th>\n",
       "      <th>Rank</th>\n",
       "      <th>Title</th>\n",
       "      <th>Artists</th>\n",
       "      <th>Album</th>\n",
       "      <th>Explicit</th>\n",
       "      <th>Duration</th>\n",
       "    </tr>\n",
       "  </thead>\n",
       "  <tbody>\n",
       "    <tr>\n",
       "      <th>0</th>\n",
       "      <td>Global</td>\n",
       "      <td>Global</td>\n",
       "      <td>1</td>\n",
       "      <td>Rain On Me (with Ariana Grande)</td>\n",
       "      <td>Lady Gaga, Ariana Grande</td>\n",
       "      <td>Rain On Me (with Ariana Grande)</td>\n",
       "      <td>0</td>\n",
       "      <td>3:02</td>\n",
       "    </tr>\n",
       "    <tr>\n",
       "      <th>1</th>\n",
       "      <td>Global</td>\n",
       "      <td>Global</td>\n",
       "      <td>2</td>\n",
       "      <td>Blinding Lights</td>\n",
       "      <td>The Weeknd</td>\n",
       "      <td>After Hours</td>\n",
       "      <td>0</td>\n",
       "      <td>3:20</td>\n",
       "    </tr>\n",
       "    <tr>\n",
       "      <th>2</th>\n",
       "      <td>Global</td>\n",
       "      <td>Global</td>\n",
       "      <td>3</td>\n",
       "      <td>ROCKSTAR (feat. Roddy Ricch)</td>\n",
       "      <td>DaBaby, Roddy Ricch</td>\n",
       "      <td>BLAME IT ON BABY</td>\n",
       "      <td>1</td>\n",
       "      <td>3:01</td>\n",
       "    </tr>\n",
       "    <tr>\n",
       "      <th>3</th>\n",
       "      <td>Global</td>\n",
       "      <td>Global</td>\n",
       "      <td>4</td>\n",
       "      <td>Roses - Imanbek Remix</td>\n",
       "      <td>SAINt JHN, Imanbek</td>\n",
       "      <td>Roses (Imanbek Remix)</td>\n",
       "      <td>1</td>\n",
       "      <td>2:56</td>\n",
       "    </tr>\n",
       "    <tr>\n",
       "      <th>4</th>\n",
       "      <td>Global</td>\n",
       "      <td>Global</td>\n",
       "      <td>5</td>\n",
       "      <td>Toosie Slide</td>\n",
       "      <td>Drake</td>\n",
       "      <td>Dark Lane Demo Tapes</td>\n",
       "      <td>1</td>\n",
       "      <td>4:07</td>\n",
       "    </tr>\n",
       "    <tr>\n",
       "      <th>...</th>\n",
       "      <td>...</td>\n",
       "      <td>...</td>\n",
       "      <td>...</td>\n",
       "      <td>...</td>\n",
       "      <td>...</td>\n",
       "      <td>...</td>\n",
       "      <td>...</td>\n",
       "      <td>...</td>\n",
       "    </tr>\n",
       "    <tr>\n",
       "      <th>3145</th>\n",
       "      <td>Vietnam</td>\n",
       "      <td>Asia</td>\n",
       "      <td>46</td>\n",
       "      <td>ĐÃ TỪNG LÀ</td>\n",
       "      <td>Vũ.</td>\n",
       "      <td>ĐÃ TỪNG LÀ</td>\n",
       "      <td>0</td>\n",
       "      <td>4:20</td>\n",
       "    </tr>\n",
       "    <tr>\n",
       "      <th>3146</th>\n",
       "      <td>Vietnam</td>\n",
       "      <td>Asia</td>\n",
       "      <td>47</td>\n",
       "      <td>Mượn Rượu Tỏ Tình</td>\n",
       "      <td>BigDaddy, Emily</td>\n",
       "      <td>Mượn Rượu Tỏ Tình</td>\n",
       "      <td>0</td>\n",
       "      <td>3:18</td>\n",
       "    </tr>\n",
       "    <tr>\n",
       "      <th>3147</th>\n",
       "      <td>Vietnam</td>\n",
       "      <td>Asia</td>\n",
       "      <td>48</td>\n",
       "      <td>Ngày Tận Thế</td>\n",
       "      <td>Tóc Tiên, Da LAB, Touliver</td>\n",
       "      <td>Ngày Tận Thế</td>\n",
       "      <td>0</td>\n",
       "      <td>3:52</td>\n",
       "    </tr>\n",
       "    <tr>\n",
       "      <th>3148</th>\n",
       "      <td>Vietnam</td>\n",
       "      <td>Asia</td>\n",
       "      <td>49</td>\n",
       "      <td>Đi Đu Đưa Đi</td>\n",
       "      <td>Bich Phuong</td>\n",
       "      <td>Đi Đu Đưa Đi</td>\n",
       "      <td>0</td>\n",
       "      <td>3:40</td>\n",
       "    </tr>\n",
       "    <tr>\n",
       "      <th>3149</th>\n",
       "      <td>Vietnam</td>\n",
       "      <td>Asia</td>\n",
       "      <td>50</td>\n",
       "      <td>Blinding Lights</td>\n",
       "      <td>The Weeknd</td>\n",
       "      <td>After Hours</td>\n",
       "      <td>0</td>\n",
       "      <td>3:20</td>\n",
       "    </tr>\n",
       "  </tbody>\n",
       "</table>\n",
       "<p>3150 rows × 8 columns</p>\n",
       "</div>"
      ],
      "text/plain": [
       "      Country Continent  Rank                            Title  \\\n",
       "0      Global    Global     1  Rain On Me (with Ariana Grande)   \n",
       "1      Global    Global     2                  Blinding Lights   \n",
       "2      Global    Global     3     ROCKSTAR (feat. Roddy Ricch)   \n",
       "3      Global    Global     4            Roses - Imanbek Remix   \n",
       "4      Global    Global     5                     Toosie Slide   \n",
       "...       ...       ...   ...                              ...   \n",
       "3145  Vietnam      Asia    46                       ĐÃ TỪNG LÀ   \n",
       "3146  Vietnam      Asia    47                Mượn Rượu Tỏ Tình   \n",
       "3147  Vietnam      Asia    48                     Ngày Tận Thế   \n",
       "3148  Vietnam      Asia    49                     Đi Đu Đưa Đi   \n",
       "3149  Vietnam      Asia    50                  Blinding Lights   \n",
       "\n",
       "                         Artists                            Album  Explicit  \\\n",
       "0       Lady Gaga, Ariana Grande  Rain On Me (with Ariana Grande)         0   \n",
       "1                     The Weeknd                      After Hours         0   \n",
       "2            DaBaby, Roddy Ricch                 BLAME IT ON BABY         1   \n",
       "3             SAINt JHN, Imanbek            Roses (Imanbek Remix)         1   \n",
       "4                          Drake             Dark Lane Demo Tapes         1   \n",
       "...                          ...                              ...       ...   \n",
       "3145                         Vũ.                       ĐÃ TỪNG LÀ         0   \n",
       "3146             BigDaddy, Emily                Mượn Rượu Tỏ Tình         0   \n",
       "3147  Tóc Tiên, Da LAB, Touliver                     Ngày Tận Thế         0   \n",
       "3148                 Bich Phuong                     Đi Đu Đưa Đi         0   \n",
       "3149                  The Weeknd                      After Hours         0   \n",
       "\n",
       "     Duration  \n",
       "0        3:02  \n",
       "1        3:20  \n",
       "2        3:01  \n",
       "3        2:56  \n",
       "4        4:07  \n",
       "...       ...  \n",
       "3145     4:20  \n",
       "3146     3:18  \n",
       "3147     3:52  \n",
       "3148     3:40  \n",
       "3149     3:20  \n",
       "\n",
       "[3150 rows x 8 columns]"
      ]
     },
     "execution_count": 5,
     "metadata": {},
     "output_type": "execute_result"
    }
   ],
   "source": [
    "spotifyData"
   ]
  },
  {
   "cell_type": "code",
   "execution_count": 6,
   "id": "d2cacf07",
   "metadata": {},
   "outputs": [
    {
     "data": {
      "text/plain": [
       "(3150, 8)"
      ]
     },
     "execution_count": 6,
     "metadata": {},
     "output_type": "execute_result"
    }
   ],
   "source": [
    "spotifyData.shape"
   ]
  },
  {
   "cell_type": "code",
   "execution_count": 8,
   "id": "4c11ccfa",
   "metadata": {},
   "outputs": [
    {
     "data": {
      "text/plain": [
       "Index(['Country', 'Continent', 'Rank', 'Title', 'Artists', 'Album', 'Explicit',\n",
       "       'Duration'],\n",
       "      dtype='object')"
      ]
     },
     "execution_count": 8,
     "metadata": {},
     "output_type": "execute_result"
    }
   ],
   "source": [
    "spotifyData.columns"
   ]
  },
  {
   "cell_type": "code",
   "execution_count": 14,
   "id": "30db21ce",
   "metadata": {},
   "outputs": [
    {
     "data": {
      "text/plain": [
       "array(['Argentina', 'Australia', 'Austria', 'Belgium', 'Bolivia',\n",
       "       'Brazil', 'Bulgaria', 'Canada', 'Chile', 'Colombia', 'Costa Rica',\n",
       "       'Czech Republic', 'Denmark', 'Dominican Republic', 'Ecuador',\n",
       "       'El Salvador', 'Estonia', 'Finland', 'France', 'Germany', 'Greece',\n",
       "       'Guatemala', 'Honduras', 'Hong Kong', 'Hungary', 'Iceland',\n",
       "       'India', 'Indonesia', 'Ireland', 'Israel', 'Italy', 'Japan',\n",
       "       'Latvia', 'Lithuania', 'Luxembourg', 'Malaysia', 'Malta', 'Mexico',\n",
       "       'Netherlands', 'New Zealand', 'Nicaragua', 'Norway', 'Panama',\n",
       "       'Paraguay', 'Peru', 'Philippines', 'Poland', 'Portugal', 'Romania',\n",
       "       'Singapore', 'Slovakia', 'South Africa', 'Spain', 'Sweden',\n",
       "       'Switzerland', 'Taiwan', 'Thailand', 'Turkey', 'United Kingdom',\n",
       "       'United States', 'Uruguay', 'Vietnam'], dtype=object)"
      ]
     },
     "execution_count": 14,
     "metadata": {},
     "output_type": "execute_result"
    }
   ],
   "source": [
    "unique_countries = spotifyData[\"Country\"].unique()\n",
    "unique_countries = unique_countries[unique_countries != \"Global\"]\n",
    "unique_countries"
   ]
  },
  {
   "cell_type": "code",
   "execution_count": 21,
   "id": "4e772c11",
   "metadata": {},
   "outputs": [],
   "source": [
    "segundos = []\n",
    "for i in spotifyData[\"Duration\"]:\n",
    "    val = i.split(\":\")\n",
    "    secs = int(val[0])*60 + int(val[1])\n",
    "    segundos.append(secs)"
   ]
  },
  {
   "cell_type": "code",
   "execution_count": 22,
   "id": "b99d77c8",
   "metadata": {},
   "outputs": [
    {
     "name": "stderr",
     "output_type": "stream",
     "text": [
      "C:\\Users\\david\\anaconda3\\lib\\site-packages\\seaborn\\distributions.py:2557: FutureWarning: `distplot` is a deprecated function and will be removed in a future version. Please adapt your code to use either `displot` (a figure-level function with similar flexibility) or `histplot` (an axes-level function for histograms).\n",
      "  warnings.warn(msg, FutureWarning)\n"
     ]
    },
    {
     "data": {
      "text/plain": [
       "<AxesSubplot:ylabel='Density'>"
      ]
     },
     "execution_count": 22,
     "metadata": {},
     "output_type": "execute_result"
    },
    {
     "data": {
      "image/png": "[encoded data removed]",
      "text/plain": [
       "<Figure size 432x288 with 1 Axes>"
      ]
     },
     "metadata": {
      "needs_background": "light"
     },
     "output_type": "display_data"
    }
   ],
   "source": [
    "sns.distplot(segundos)"
   ]
  },
  {
   "cell_type": "code",
   "execution_count": 15,
   "id": "1b9f0d53",
   "metadata": {},
   "outputs": [
    {
     "data": {
      "text/plain": [
       "<AxesSubplot:>"
      ]
     },
     "execution_count": 15,
     "metadata": {},
     "output_type": "execute_result"
    },
    {
     "data": {
      "image/png": "[encoded data removed]",
      "text/plain": [
       "<Figure size 432x288 with 2 Axes>"
      ]
     },
     "metadata": {
      "needs_background": "light"
     },
     "output_type": "display_data"
    }
   ],
   "source": [
    "sns.heatmap(spotifyData.corr())"
   ]
  },
  {
   "cell_type": "code",
   "execution_count": 16,
   "id": "576581f0",
   "metadata": {},
   "outputs": [
    {
     "data": {
      "text/plain": [
       "<AxesSubplot:>"
      ]
     },
     "execution_count": 16,
     "metadata": {},
     "output_type": "execute_result"
    },
    {
     "data": {
      "image/png": "[encoded data removed]",
      "text/plain": [
       "<Figure size 432x288 with 2 Axes>"
      ]
     },
     "metadata": {
      "needs_background": "light"
     },
     "output_type": "display_data"
    }
   ],
   "source": [
    "\n",
    "sns.heatmap(spotifyData.corr(), annot=True)"
   ]
  },
  {
   "cell_type": "code",
   "execution_count": 20,
   "id": "52e7892d",
   "metadata": {},
   "outputs": [
    {
     "data": {
      "text/plain": [
       "1    1099\n",
       "0    2051\n",
       "Name: Explicit, dtype: int64"
      ]
     },
     "execution_count": 20,
     "metadata": {},
     "output_type": "execute_result"
    }
   ],
   "source": [
    "explicitas = spotifyData[\"Explicit\"].value_counts().sort_values()\n",
    "explicitas"
   ]
  },
  {
   "cell_type": "code",
   "execution_count": 23,
   "id": "9bf04e2e",
   "metadata": {},
   "outputs": [
    {
     "data": {
      "image/png": "[encoded data removed]",
      "text/plain": [
       "<Figure size 792x504 with 1 Axes>"
      ]
     },
     "metadata": {
      "needs_background": "light"
     },
     "output_type": "display_data"
    }
   ],
   "source": [
    "top10_albums = spotifyData[\"Album\"].value_counts()[:10].sort_values(ascending=True)\n",
    "height = top10_albums.values\n",
    "bars = top10_albums.index\n",
    "y_pos = np.arange(len(bars))\n",
    "\n",
    "fig = plt.figure(figsize=[11,7], frameon=False)\n",
    "ax = fig.gca()\n",
    "ax.spines[\"top\"].set_visible(\"#424242\")\n",
    "ax.spines[\"right\"].set_visible(False)\n",
    "ax.spines[\"left\"].set_color(\"#424242\")\n",
    "ax.spines[\"bottom\"].set_color(\"#424242\")\n",
    "\n",
    "plt.barh(y_pos, height, color=\"#1db954\", height=0.8)\n",
    " \n",
    "plt.xticks(color=\"#424242\")\n",
    "plt.yticks(y_pos, bars, color=\"#424242\")\n",
    "plt.xlabel(\"Numero de ocurrencias\")\n",
    "\n",
    "for i, v in enumerate(height):\n",
    "    ax.text(v+1, i, str(v), color='#424242')\n",
    "plt.title(\"Top 10 Albums\")\n",
    "\n",
    "plt.show()"
   ]
  },
  {
   "cell_type": "code",
   "execution_count": null,
   "id": "a38e672f",
   "metadata": {},
   "outputs": [],
   "source": []
  }
 ],
 "metadata": {
  "kernelspec": {
   "display_name": "Python 3",
   "language": "python",
   "name": "python3"
  },
  "language_info": {
   "codemirror_mode": {
    "name": "ipython",
    "version": 3
   },
   "file_extension": ".py",
   "mimetype": "text/x-python",
   "name": "python",
   "nbconvert_exporter": "python",
   "pygments_lexer": "ipython3",
   "version": "3.8.8"
  }
 },
 "nbformat": 4,
 "nbformat_minor": 5
}
